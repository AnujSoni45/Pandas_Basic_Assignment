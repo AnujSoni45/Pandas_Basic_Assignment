{
 "cells": [
  {
   "cell_type": "code",
   "execution_count": null,
   "id": "108d5ff9-63d0-4888-941f-90fb9562548a",
   "metadata": {},
   "outputs": [],
   "source": [
    "Q1. Create a Pandas Series that contains the following data: 4, 8, 15, 16, 23, and 42. Then, print the series. \n"
   ]
  },
  {
   "cell_type": "code",
   "execution_count": 1,
   "id": "b1c52303-3a86-4022-ae06-6e9fd705306e",
   "metadata": {},
   "outputs": [
    {
     "name": "stdout",
     "output_type": "stream",
     "text": [
      "0     4\n",
      "1     8\n",
      "2    15\n",
      "3    16\n",
      "4    23\n",
      "5    42\n",
      "dtype: int64\n"
     ]
    }
   ],
   "source": [
    "import pandas as pd\n",
    "\n",
    "data = [4, 8, 15, 16, 23, 42]\n",
    "series = pd.Series(data)\n",
    "\n",
    "print(series)\n"
   ]
  },
  {
   "cell_type": "code",
   "execution_count": null,
   "id": "02229f83-2f78-4003-a7ff-4ea17c65c14b",
   "metadata": {},
   "outputs": [],
   "source": [
    "Q2. Create a variable of list type containing 10 elements in it, and apply pandas.Series function on the  variable print it. \n"
   ]
  },
  {
   "cell_type": "code",
   "execution_count": 2,
   "id": "61f16782-8f18-4115-8a0d-1dbea16a75d6",
   "metadata": {},
   "outputs": [
    {
     "name": "stdout",
     "output_type": "stream",
     "text": [
      "0     1\n",
      "1     2\n",
      "2     3\n",
      "3     4\n",
      "4     5\n",
      "5     6\n",
      "6     7\n",
      "7     8\n",
      "8     9\n",
      "9    10\n",
      "dtype: int64\n"
     ]
    }
   ],
   "source": [
    "(Answer):\n",
    "\n",
    "import pandas as pd\n",
    "\n",
    "my_list = [1, 2, 3, 4, 5, 6, 7, 8, 9, 10]\n",
    "series = pd.Series(my_list)\n",
    "\n",
    "print(series)\n"
   ]
  },
  {
   "cell_type": "code",
   "execution_count": null,
   "id": "b0accba6-0af1-4837-838d-eacc0b0f9986",
   "metadata": {},
   "outputs": [],
   "source": [
    "Q3. Create a Pandas DataFrame that contains the following data: \n",
    "\n",
    "Name \n",
    "Alice \n",
    "Bob \n",
    "Claire \n",
    "      Age \n",
    "      25 \n",
    "      30 \n",
    "      27 \n",
    "         Gender \n",
    "         Female \n",
    "          Male \n",
    "         Female \n",
    "                \n",
    "Then, print the DataFrame. "
   ]
  },
  {
   "cell_type": "code",
   "execution_count": 3,
   "id": "5b25a27c-04fa-4caa-a731-386b045de083",
   "metadata": {},
   "outputs": [
    {
     "name": "stdout",
     "output_type": "stream",
     "text": [
      "     Name  Age  Gender\n",
      "0   Alice   25  Female\n",
      "1     Bob   30    Male\n",
      "2  Claire   27  Female\n"
     ]
    }
   ],
   "source": [
    "(Answer):\n",
    "\n",
    "import pandas as pd\n",
    "\n",
    "data = {\n",
    "    \"Name\": [\"Alice\", \"Bob\", \"Claire\"],\n",
    "    \"Age\": [25, 30, 27],\n",
    "    \"Gender\": [\"Female\", \"Male\", \"Female\"]\n",
    "}\n",
    "\n",
    "df = pd.DataFrame(data)\n",
    "\n",
    "print(df)\n"
   ]
  },
  {
   "cell_type": "code",
   "execution_count": null,
   "id": "e9fbc9c3-10ad-4d6d-bcac-07223b025c03",
   "metadata": {},
   "outputs": [],
   "source": [
    "Q4. What is ‘DataFrame’ in pandas and how is it different from pandas.series? Explain with an example."
   ]
  },
  {
   "cell_type": "code",
   "execution_count": null,
   "id": "d8d71d9d-22d7-4e20-8083-964dba225579",
   "metadata": {},
   "outputs": [],
   "source": [
    "(Answer):\n",
    "In pandas, a DataFrame is a two-dimensional tabular data structure that consists of rows and columns, similar \n",
    "to a spreadsheet or a SQL table. It is one of the core data structures provided by the pandas library, and it's\n",
    "used for handling and analyzing structured data. Each column in a DataFrame can hold data of a different data \n",
    "type (e.g., integers, strings, floats), and each row represents a record or observation.\n",
    "\n",
    "Example:"
   ]
  },
  {
   "cell_type": "code",
   "execution_count": 4,
   "id": "05cfea9e-a3d5-40b1-b66e-37383c455253",
   "metadata": {},
   "outputs": [
    {
     "name": "stdout",
     "output_type": "stream",
     "text": [
      "DataFrame:\n",
      "     Name  Age  Gender\n",
      "0   Alice   25  Female\n",
      "1     Bob   30    Male\n",
      "2  Claire   27  Female\n",
      "\n",
      "Series:\n",
      "0    25\n",
      "1    30\n",
      "2    27\n",
      "Name: Age, dtype: int64\n"
     ]
    }
   ],
   "source": [
    "import pandas as pd\n",
    "\n",
    "# Creating a DataFrame\n",
    "data = {\n",
    "    \"Name\": [\"Alice\", \"Bob\", \"Claire\"],\n",
    "    \"Age\": [25, 30, 27],\n",
    "    \"Gender\": [\"Female\", \"Male\", \"Female\"]\n",
    "}\n",
    "df = pd.DataFrame(data)\n",
    "\n",
    "# Creating a Series\n",
    "ages = pd.Series([25, 30, 27], name=\"Age\")\n",
    "\n",
    "print(\"DataFrame:\")\n",
    "print(df)\n",
    "print(\"\\nSeries:\")\n",
    "print(ages)\n"
   ]
  },
  {
   "cell_type": "code",
   "execution_count": null,
   "id": "f8f980e2-8102-4ad4-b00d-c098a14ff4da",
   "metadata": {},
   "outputs": [],
   "source": [
    "Q5. What are some common functions you can use to manipulate data in a Pandas DataFrame? Can\n",
    "you give an example of when you might use one of these functions?"
   ]
  },
  {
   "cell_type": "code",
   "execution_count": null,
   "id": "a97b6b7b-9aba-444e-818b-36e9857b4553",
   "metadata": {},
   "outputs": [],
   "source": [
    "(Answer):\n",
    "Pandas provides a wide range of functions for manipulating data in a DataFrame. Here are some common functions \n",
    "and methods along with examples of how they can be used:"
   ]
  },
  {
   "cell_type": "code",
   "execution_count": null,
   "id": "f5d11c1a-4b0b-48c5-9066-bb48919fa607",
   "metadata": {},
   "outputs": [],
   "source": [
    "head() and tail(): These methods allow you to view the first few (head) or last few (tail) rows of the DataFrame.\n",
    "# Viewing the first 5 rows of a DataFrame\n",
    "df.head()\n",
    "\n",
    "# Viewing the last 3 rows of a DataFrame\n",
    "df.tail(3)\n",
    "\n",
    "describe(): This method provides summary statistics of numeric columns in the DataFrame.\n",
    "# Summary statistics of numeric columns\n",
    "df.describe()\n",
    "\n",
    "info(): This method displays concise information about the DataFrame, including column data types and non-null \n",
    "counts.\n",
    "# Displaying information about the DataFrame\n",
    "df.info()\n",
    "\n",
    "sort_values(): This function is used to sort the DataFrame based on one or more columns.\n",
    "# Sorting the DataFrame by the 'Age' column in ascending order\n",
    "df_sorted = df.sort_values(by='Age')\n",
    "\n",
    "groupby(): This function is used for grouping data based on one or more columns and applying an aggregation function.\n",
    "# Grouping the DataFrame by the 'Gender' column and calculating the mean age for each group\n",
    "age_by_gender = df.groupby('Gender')['Age'].mean()\n",
    "\n"
   ]
  },
  {
   "cell_type": "code",
   "execution_count": null,
   "id": "e46315e4-ec81-4c9d-a29f-b8cab3460b61",
   "metadata": {},
   "outputs": [],
   "source": [
    "Q6. Which of the following is mutable in nature Series, DataFrame, Panel?"
   ]
  },
  {
   "cell_type": "code",
   "execution_count": null,
   "id": "99ffd9e9-05f0-407e-9b35-a159525d315d",
   "metadata": {},
   "outputs": [],
   "source": [
    "(Answer):\n",
    "Series and DataFrame are mutable in nature in the context of pandas.\n",
    "\n",
    "Series: You can modify the values of a Series after it's been created. For example, you can change individual \n",
    "elements by index or apply operations to the entire Series.\n",
    "\n",
    "DataFrame: Similar to Series, you can modify the values in DataFrame cells, add or remove columns, and perform \n",
    "various data manipulations."
   ]
  },
  {
   "cell_type": "code",
   "execution_count": null,
   "id": "ff47604f-ca7d-47fa-9c8b-56a13f5bffe5",
   "metadata": {},
   "outputs": [],
   "source": [
    "Q7. Create a DataFrame using multiple Series. Explain with an example."
   ]
  },
  {
   "cell_type": "code",
   "execution_count": null,
   "id": "633f92cc-29ed-4d81-9b81-59fd4d04392a",
   "metadata": {},
   "outputs": [],
   "source": [
    "(Answer):\n",
    "Creating a DataFrame using multiple Series is a common operation in pandas. You can think of a DataFrame as a \n",
    "collection of Series that share a common index. Each Series represents a column in the DataFrame. Let's walk \n",
    "through an example:"
   ]
  },
  {
   "cell_type": "code",
   "execution_count": 5,
   "id": "535339d8-3abd-4718-9b01-99f584a49d0a",
   "metadata": {},
   "outputs": [
    {
     "name": "stdout",
     "output_type": "stream",
     "text": [
      "     Name  Age  Grade\n",
      "0   Alice   25     85\n",
      "1     Bob   30     92\n",
      "2  Claire   27     78\n"
     ]
    }
   ],
   "source": [
    "import pandas as pd\n",
    "\n",
    "# Creating individual Series for each column\n",
    "names = pd.Series([\"Alice\", \"Bob\", \"Claire\"])\n",
    "ages = pd.Series([25, 30, 27])\n",
    "grades = pd.Series([85, 92, 78])\n",
    "\n",
    "# Creating a DataFrame using the Series\n",
    "data = {\n",
    "    \"Name\": names,\n",
    "    \"Age\": ages,\n",
    "    \"Grade\": grades\n",
    "}\n",
    "\n",
    "df = pd.DataFrame(data)\n",
    "\n",
    "print(df)\n"
   ]
  },
  {
   "cell_type": "code",
   "execution_count": null,
   "id": "4ba38c68-b66d-48ad-9e3f-d4f5ea6658ff",
   "metadata": {},
   "outputs": [],
   "source": []
  }
 ],
 "metadata": {
  "kernelspec": {
   "display_name": "Python 3 (ipykernel)",
   "language": "python",
   "name": "python3"
  },
  "language_info": {
   "codemirror_mode": {
    "name": "ipython",
    "version": 3
   },
   "file_extension": ".py",
   "mimetype": "text/x-python",
   "name": "python",
   "nbconvert_exporter": "python",
   "pygments_lexer": "ipython3",
   "version": "3.10.8"
  }
 },
 "nbformat": 4,
 "nbformat_minor": 5
}
